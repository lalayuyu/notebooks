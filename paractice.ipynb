{
 "cells": [
  {
   "cell_type": "markdown",
   "id": "dominican-branch",
   "metadata": {},
   "source": [
    "# 图像进行简单的处理，主要是对于数据集中的图片进行处理"
   ]
  },
  {
   "cell_type": "code",
   "execution_count": 1,
   "id": "proof-genetics",
   "metadata": {},
   "outputs": [
    {
     "name": "stdout",
     "output_type": "stream",
     "text": [
      "1.7.1+cpu\n",
      "[3 2 4 1 0]\n"
     ]
    }
   ],
   "source": [
    "import torch\n",
    "import numpy as np\n",
    "import os\n",
    "import  random\n",
    "import cv2\n",
    "\n",
    "\n",
    "print(torch.__version__)\n",
    "arr = np.random.permutation(5)\n",
    "print(arr)"
   ]
  },
  {
   "cell_type": "code",
   "execution_count": 9,
   "id": "patent-merchandise",
   "metadata": {},
   "outputs": [
    {
     "name": "stdout",
     "output_type": "stream",
     "text": [
      "[2 3 4 0 1]\n",
      "[[1 2 3 4 5]\n",
      " [2 3 1 5 4]]\n",
      "0 [1 2 3 4 5]\n",
      "[[4 3 5 2 1]\n",
      " [2 3 1 5 4]]\n",
      "1 [2 3 1 5 4]\n",
      "[[4 3 5 2 1]\n",
      " [5 1 4 3 2]]\n"
     ]
    }
   ],
   "source": [
    "np.random.permutation(arr)\n",
    "print(np.random.permutation(5))\n",
    "\n",
    "rendering_image = np.array([[1,2,3,4,5],[2,3,1,5,4]])\n",
    "print(rendering_image)\n",
    "for img_idx, img in enumerate(rendering_image):\n",
    "    print(img_idx, img)\n",
    "    rendering_image[img_idx] = img[..., arr]\n",
    "    print(rendering_image)"
   ]
  },
  {
   "cell_type": "code",
   "execution_count": 18,
   "id": "brilliant-bloom",
   "metadata": {},
   "outputs": [
    {
     "name": "stdout",
     "output_type": "stream",
     "text": [
      "[10  9  8  7  6  5  4  3  2]\n",
      "[7 7 9 2]\n"
     ]
    },
    {
     "data": {
      "text/plain": "array([[9, 9],\n       [8, 7]])"
     },
     "execution_count": 18,
     "metadata": {},
     "output_type": "execute_result"
    }
   ],
   "source": [
    "x = np.arange(10,1,-1)\n",
    "print(x)\n",
    "print(x[np.array([3, 3, 1, 8])])\n",
    "x[np.array([[1,1],[2,3]])]\n",
    "\n",
    "\n",
    "\n"
   ]
  }
 ],
 "metadata": {
  "kernelspec": {
   "display_name": "Python 3",
   "language": "python",
   "name": "python3"
  },
  "language_info": {
   "codemirror_mode": {
    "name": "ipython",
    "version": 3
   },
   "file_extension": ".py",
   "mimetype": "text/x-python",
   "name": "python",
   "nbconvert_exporter": "python",
   "pygments_lexer": "ipython3",
   "version": "3.8.5"
  }
 },
 "nbformat": 4,
 "nbformat_minor": 5
}